{
 "cells": [
  {
   "cell_type": "code",
   "execution_count": 88,
   "metadata": {},
   "outputs": [
    {
     "name": "stdout",
     "output_type": "stream",
     "text": [
      "qhy\n",
      "26\n",
      "100\n"
     ]
    }
   ],
   "source": [
    "#题目见视频\n",
    "class Student():\n",
    "    def __init__(self,name,age,scores):\n",
    "        self.name = name\n",
    "        self.age = age\n",
    "        self.scores = scores\n",
    "        \n",
    "    def get_name(self):\n",
    "        return self.name\n",
    "    \n",
    "    def get_age(self):\n",
    "        return self.age\n",
    "    \n",
    "    def get_scores(self):\n",
    "        return max(self.scores)\n",
    "    \n",
    "stu = Student(\"qhy\",26,[99,77,100])\n",
    "print(stu.get_name())\n",
    "print(stu.get_age())\n",
    "print(stu.get_scores())"
   ]
  },
  {
   "cell_type": "code",
   "execution_count": 5,
   "metadata": {},
   "outputs": [
    {
     "name": "stdout",
     "output_type": "stream",
     "text": [
      "dict_values([1, 2, 3])\n"
     ]
    }
   ],
   "source": [
    "class DictClass():\n",
    "    def __init__(self,dict):\n",
    "        self.dict = dict\n",
    "        \n",
    "    def del_dict(self,key):\n",
    "        #判断key是否在字典里\n",
    "        if key not in self.dict.keys():\n",
    "            return \"key不在字典里\"\n",
    "        else:\n",
    "            self.dict.pop(key)\n",
    "            return \"删除成功\"\n",
    "            \n",
    "    def get_dict(self,key):\n",
    "        if key not in self.dict.keys():\n",
    "            return \"不在字典里\"\n",
    "        else:\n",
    "            return self.dict[key]\n",
    "        \n",
    "    def get_key(self):\n",
    "        return self.dict.keys()\n",
    "    \n",
    "    def update_dict(self,dict2):\n",
    "        self.dict = dict(self.dict,**dict2)\n",
    "        return self.dict.values()\n",
    "    \n",
    "d = DictClass({\"a\":1,\"b\":2})\n",
    "print(d.update_dict({\"c\":3}))"
   ]
  },
  {
   "cell_type": "code",
   "execution_count": 12,
   "metadata": {},
   "outputs": [
    {
     "name": "stdout",
     "output_type": "stream",
     "text": [
      "只能字符串或数字\n"
     ]
    }
   ],
   "source": [
    "class ListInfo():\n",
    "    def __init__(self,list_val):\n",
    "        self.list = list_val\n",
    "        \n",
    "    def add_key(self,key_name):\n",
    "        if isinstance(key_name,(int,str)):\n",
    "            self.list.append(key_name)\n",
    "            print(self.list)\n",
    "            return \"OK\"\n",
    "        else:\n",
    "            return \"只能字符串或数字\"\n",
    "    \n",
    "    def get_key(self,index):\n",
    "        if 0<= index < len(self.list):\n",
    "            return self.list[index]\n",
    "        else:\n",
    "            return \"输入太多了\"\n",
    "        \n",
    "    def update_list(self,new_list):\n",
    "        self.list.extend(new_list)\n",
    "        return self.list\n",
    "    \n",
    "    def del_key(self):\n",
    "        if len(self.list) >= 0:\n",
    "            return self.list.pop(-1)\n",
    "        return \"列表是空的\"\n",
    "        \n",
    "list_info = ListInfo([1,2,3,4,5])\n",
    "print(list_info.add_key([1,4,5,6]))\n",
    "\n",
    "# print(list_info.get_key(4))\n",
    "\n",
    "# print(list_info.update_list([8,9,10]))\n",
    "\n",
    "# print(list_info.del_key())"
   ]
  },
  {
   "cell_type": "code",
   "execution_count": 22,
   "metadata": {},
   "outputs": [
    {
     "name": "stdout",
     "output_type": "stream",
     "text": [
      "不是set\n"
     ]
    }
   ],
   "source": [
    "class SetInfo():\n",
    "    def __init__(self,my_set):\n",
    "        self.set = my_set\n",
    "    \n",
    "    def add_setinfo(self,keyname):\n",
    "        self.set.add(keyname)\n",
    "        return self.set\n",
    "    \n",
    "    def get_intersection(self,unioninfo):\n",
    "        if isinstance(unioninfo,set):\n",
    "            return self.set & unioninfo\n",
    "        else:\n",
    "            return \"不是set\"\n",
    "    \n",
    "    def get_union(self,unioninfo):\n",
    "        if isinstance(unioninfo,set):\n",
    "            return self.set | unioninfo\n",
    "        else:\n",
    "            return \"不是set\"\n",
    "    \n",
    "    def del_difference(self,unioninfo):\n",
    "        if isinstance(unioninfo,set):\n",
    "            return self.set - unioninfo\n",
    "        else:\n",
    "            return \"不是set\"\n",
    "    \n",
    "A = set([1,2,3,4,5])\n",
    "B = set([5,6,3])\n",
    "\n",
    "my_set = SetInfo(A)\n",
    "\n",
    "# print(my_set.add_setinfo(6))\n",
    "\n",
    "# print(my_set.get_intersection(B))\n",
    "\n",
    "# print(my_set.get_union(B))\n",
    "\n",
    "# print(my_set.del_difference(B))\n",
    "\n",
    "print(my_set.get_union(\"1,2,3\"))"
   ]
  },
  {
   "cell_type": "code",
   "execution_count": null,
   "metadata": {},
   "outputs": [],
   "source": []
  }
 ],
 "metadata": {
  "kernelspec": {
   "display_name": "Python 3",
   "language": "python",
   "name": "python3"
  },
  "language_info": {
   "codemirror_mode": {
    "name": "ipython",
    "version": 3
   },
   "file_extension": ".py",
   "mimetype": "text/x-python",
   "name": "python",
   "nbconvert_exporter": "python",
   "pygments_lexer": "ipython3",
   "version": "3.6.5"
  }
 },
 "nbformat": 4,
 "nbformat_minor": 2
}
