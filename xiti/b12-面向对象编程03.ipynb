{
 "cells": [
  {
   "cell_type": "markdown",
   "metadata": {},
   "source": [
    "定义一个门票系统\n",
    "- 门票原价100元\n",
    "- 周末时门票涨价20%\n",
    "- 小孩子半票\n",
    "- 计算2个成人和1个小孩的平日票价\n"
   ]
  },
  {
   "cell_type": "code",
   "execution_count": 5,
   "metadata": {},
   "outputs": [
    {
     "name": "stdout",
     "output_type": "stream",
     "text": [
      "2个成年人和2个小孩的平日票价是250.0\n"
     ]
    }
   ],
   "source": [
    "class Ticket():\n",
    "    def __init__(self,weekend=False,child=False):\n",
    "        self.exp = 100\n",
    "        if weekend:\n",
    "            self.inc = 1.2\n",
    "        else:\n",
    "            self.inc = 1\n",
    "        \n",
    "        if child:\n",
    "            self.discount = 0.5\n",
    "        else:\n",
    "            self.discount = 1\n",
    "    \n",
    "    def cal_price(self,num):\n",
    "        return self.exp * self.inc * self.discount * num\n",
    "    \n",
    "adult = Ticket()\n",
    "child = Ticket(child=True)\n",
    "\n",
    "print('2个成年人和2个小孩的平日票价是{}'.format(adult.cal_price(2) + child.cal_price(1)))"
   ]
  },
  {
   "cell_type": "markdown",
   "metadata": {},
   "source": [
    "游戏编程：按一下要求定义一个乌龟类和鱼类并尝试编程\n",
    "- 假设游戏场景范围(x,y)为0<=x<=10,0<=y<=10\n",
    "- 游戏生成1只乌龟和10条鱼\n",
    "- 它们的移动方向均随机\n",
    "- 乌龟的最大移动能力是2(可以随机选择是1还是2),鱼的最大移动能力是1\n",
    "- 当移动到场景边缘，自动反向移动\n",
    "- 乌龟初始化体力是100(上限)\n",
    "- 乌龟每移动一次，消耗体力1\n",
    "- 当乌龟和鱼重叠，乌龟吃掉鱼，乌龟体力增加20\n",
    "- 鱼不计算体力\n",
    "- 当乌龟体力为0或鱼数量为0时，游戏结束"
   ]
  },
  {
   "cell_type": "code",
   "execution_count": 26,
   "metadata": {},
   "outputs": [
    {
     "name": "stdout",
     "output_type": "stream",
     "text": [
      "有一条鱼被吃掉了\n",
      "有一条鱼被吃掉了\n",
      "有一条鱼被吃掉了\n",
      "有一条鱼被吃掉了\n",
      "有一条鱼被吃掉了\n",
      "有一条鱼被吃掉了\n",
      "有一条鱼被吃掉了\n",
      "有一条鱼被吃掉了\n",
      "有一条鱼被吃掉了\n",
      "有一条鱼被吃掉了\n",
      "鱼被吃完了，游戏结束\n"
     ]
    }
   ],
   "source": [
    "import random as r\n",
    "\n",
    "class Turtle():\n",
    "    def __init__(self):\n",
    "        self.power = 100\n",
    "        \n",
    "        #初始化乌龟的位置\n",
    "        self.x = r.randint(0,10)\n",
    "        self.y = r.randint(0,10)\n",
    "    \n",
    "    def move(self):\n",
    "        new_x = r.choice([1,2,-1,-2]) + self.x\n",
    "        new_y = r.choice([1,2,-1,-2]) + self.y\n",
    "        \n",
    "        #判断乌龟的移动是否超出了边界\n",
    "        if new_x < 0:\n",
    "            self.x = 0 - (new_x -0)\n",
    "        elif new_x > 10:\n",
    "            self.x = 10 - (new_x - 10)\n",
    "        else:\n",
    "            self.x = new_x\n",
    "            \n",
    "        if new_y < 0:\n",
    "            self.y = 0 - (new_y -0)\n",
    "        elif new_y > 10:\n",
    "            self.y = 10 - (new_y - 10)\n",
    "        else:\n",
    "            self.y = new_y\n",
    "            \n",
    "        self.power -= 1\n",
    "        return (self.x,self.y)\n",
    "    \n",
    "    def eat(self):\n",
    "        self.power += 20\n",
    "        if self.power > 100:\n",
    "            self.power = 100\n",
    "            \n",
    "class Fish():\n",
    "    def __init__(self):\n",
    "        self.x = r.randint(0,10)\n",
    "        self.y = r.randint(0,10)\n",
    "        \n",
    "    def move(self):\n",
    "        new_x = r.choice([1,-1]) + self.x\n",
    "        new_y = r.choice([1,-1]) + self.y\n",
    "        \n",
    "        if new_x < 0:\n",
    "            self.x = 0 - (new_x -0)\n",
    "        elif new_x > 10:\n",
    "            self.x = 10 - (new_x - 10)\n",
    "        else:\n",
    "            self.x = new_x\n",
    "            \n",
    "        if new_y < 0:\n",
    "            self.y = 0 - (new_y -0)\n",
    "        elif new_y > 10:\n",
    "            self.y = 10 - (new_y - 10)\n",
    "        else:\n",
    "            self.y = new_y\n",
    "            \n",
    "        return (self.x,self.y)\n",
    "\n",
    "turtle = Turtle()\n",
    "fish = []\n",
    "for i in range(10):\n",
    "    new_fish = Fish()\n",
    "    fish.append(new_fish)\n",
    "\n",
    "while True:\n",
    "    if not len(fish):\n",
    "        print('鱼被吃完了，游戏结束')\n",
    "        break\n",
    "    if not turtle.power:\n",
    "        print('乌龟没体力了，游戏结束')\n",
    "        break\n",
    "    \n",
    "    pos = turtle.move()\n",
    "    \n",
    "    #在迭代中做列表的删除元素是非常危险的，经常会出现一些意想不到的问题，因为迭代器是直接引用列表元素的数据做操作，\n",
    "    #所以，这里把列表拷贝一份给迭代器，然后再对原列表做操作\n",
    "    for each_fish in fish[:]:\n",
    "        if each_fish.move() == pos:\n",
    "            turtle.eat()\n",
    "            fish.remove(each_fish)\n",
    "            print('有一条鱼被吃掉了')"
   ]
  },
  {
   "cell_type": "markdown",
   "metadata": {},
   "source": [
    "定义一个点(Point)和直线(Line)类，使用getLen方法获取两点构成直线的长度"
   ]
  },
  {
   "cell_type": "code",
   "execution_count": 34,
   "metadata": {},
   "outputs": [
    {
     "data": {
      "text/plain": [
       "5.0"
      ]
     },
     "execution_count": 34,
     "metadata": {},
     "output_type": "execute_result"
    }
   ],
   "source": [
    "import math\n",
    "\n",
    "class Point():\n",
    "    def __init__(self,x=0,y=0):\n",
    "        self.x = x\n",
    "        self.y = y\n",
    "        \n",
    "    def get_x(self):\n",
    "        return self.x\n",
    "    \n",
    "    def get_y(self):\n",
    "        return self.y\n",
    "    \n",
    "class Line():\n",
    "    def __init__(self,p1,p2):\n",
    "        self.x = p1.get_x() - p2.get_x()\n",
    "        self.y = p1.get_y() - p2.get_y()\n",
    "        self.len = math.sqrt(self.x*self.x + self.y*self.y)\n",
    "    \n",
    "    def getLen(self):\n",
    "        return self.len\n",
    "\n",
    "p1 = Point(2,3)\n",
    "p2 = Point(5,7)\n",
    "line = Line(p1,p2)\n",
    "line.getLen()"
   ]
  },
  {
   "cell_type": "code",
   "execution_count": null,
   "metadata": {},
   "outputs": [],
   "source": [
    ""
   ]
  }
 ],
 "metadata": {
  "kernelspec": {
   "display_name": "Python 3",
   "language": "python",
   "name": "python3"
  },
  "language_info": {
   "codemirror_mode": {
    "name": "ipython",
    "version": 3.0
   },
   "file_extension": ".py",
   "mimetype": "text/x-python",
   "name": "python",
   "nbconvert_exporter": "python",
   "pygments_lexer": "ipython3",
   "version": "3.6.5"
  }
 },
 "nbformat": 4,
 "nbformat_minor": 0
}