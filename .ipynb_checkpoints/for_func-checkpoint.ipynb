{
 "cells": [
  {
   "cell_type": "code",
   "execution_count": 1,
   "metadata": {},
   "outputs": [
    {
     "name": "stdout",
     "output_type": "stream",
     "text": [
      "* * * * * * \n",
      "* * * * * * \n",
      "* * * * * * \n",
      "* * * * * * \n",
      "* * * * * * \n",
      "====================\n",
      "* * * * * * \n",
      "*         * \n",
      "*         * \n",
      "*         * \n",
      "* * * * * * \n"
     ]
    }
   ],
   "source": [
    "#打印一个矩行\n",
    "#控制行\n",
    "for i in range(5):\n",
    "    #控制列\n",
    "    for j in range(6):\n",
    "        print(\"*\",end=\" \")\n",
    "    #当第i行的6列输出完后换行        \n",
    "    print()\n",
    "#分割输出\n",
    "print(\"=\"*20)\n",
    "\n",
    "#打印空心矩行\n",
    "for i in range(5):\n",
    "    for j in range(6):\n",
    "        if 0 < i < 4 and 0 < j < 5:\n",
    "            print(\" \",end=\" \")\n",
    "        else:\n",
    "            print(\"*\",end=\" \")\n",
    "    print()"
   ]
  },
  {
   "cell_type": "code",
   "execution_count": 2,
   "metadata": {},
   "outputs": [
    {
     "name": "stdout",
     "output_type": "stream",
     "text": [
      "* \n",
      "* * \n",
      "* * * \n",
      "* * * * \n",
      "* * * * * \n",
      "* * * * * * \n",
      "====================\n",
      "* \n",
      "* * \n",
      "*   * \n",
      "*     * \n",
      "*       * \n",
      "* * * * * * \n",
      "====================\n",
      "* * * * * * \n",
      "*       * \n",
      "*     * \n",
      "*   * \n",
      "* * \n",
      "* \n",
      "====================\n",
      "* * * * * * \n",
      "  *       * \n",
      "    *     * \n",
      "      *   * \n",
      "        * * \n",
      "          * \n",
      "* * * * * * \n",
      "  *       * \n",
      "    *     * \n",
      "      *   * \n",
      "        * * \n",
      "          * \n",
      "====================\n",
      "          * \n",
      "        * * \n",
      "      *   * \n",
      "    *     * \n",
      "  *       * \n",
      "* * * * * * \n"
     ]
    }
   ],
   "source": [
    "#打印直角三角形\n",
    "#控制行\n",
    "for i in range(6):\n",
    "    #控制列\n",
    "    for j in range(i+1):\n",
    "        print(\"*\",end=\" \")\n",
    "    print()\n",
    "    \n",
    "print(\"=\"*20)\n",
    "\n",
    "#打印空心三角形\n",
    "for i in range(6):\n",
    "    for j in range(i+1):\n",
    "        if 1 < i < 5 and 0 < j < i:\n",
    "            print(\" \",end=\" \")\n",
    "        else:\n",
    "            print(\"*\",end=\" \")\n",
    "    print()\n",
    "    \n",
    "print(\"=\"*20)\n",
    "\n",
    "for i in range(6):\n",
    "    for j in range(6-i):\n",
    "        if 0 < i < 4 and 0 < j < 5-i:\n",
    "            print(\" \",end=\" \")\n",
    "        else:\n",
    "            print(\"*\",end=\" \")\n",
    "    print()\n",
    "\n",
    "print(\"=\"*20)\n",
    "\n",
    "for i in range(6):\n",
    "    for j in range(6):\n",
    "        if 0 < i < 4 and i < j < 5 or i > j:\n",
    "            print(\" \",end=\" \")\n",
    "        else:\n",
    "            print(\"*\",end=\" \")\n",
    "    print()\n",
    "    \n",
    "for i in range(6):\n",
    "    for j in range(6):\n",
    "        if i == 0 or j == 5 or j == i:\n",
    "            print(\"*\",end=\" \")\n",
    "        else:\n",
    "            print(\" \",end=\" \")\n",
    "    print()\n",
    "\n",
    "print(\"=\"*20)\n",
    "    \n",
    "for i in range(6):\n",
    "    for j in range(6):\n",
    "        if i == 5 or j == 5 or j == 5-i:\n",
    "            print(\"*\",end=\" \")\n",
    "        else:\n",
    "            print(\" \",end=\" \")\n",
    "    print()"
   ]
  },
  {
   "cell_type": "code",
   "execution_count": 3,
   "metadata": {
    "scrolled": true
   },
   "outputs": [
    {
     "name": "stdout",
     "output_type": "stream",
     "text": [
      "      * \n",
      "     * * \n",
      "    * * * \n",
      "   * * * * \n",
      "  * * * * * \n",
      " * * * * * * \n",
      "====================\n",
      "      * \n",
      "     * * \n",
      "    *   * \n",
      "   *     * \n",
      "  *       * \n",
      " * * * * * * \n"
     ]
    }
   ],
   "source": [
    "#打印等边三角形\n",
    "for i in range(6):\n",
    "        #打印前面空格\n",
    "    for j in range(6-i):\n",
    "        print(end=\" \")\n",
    "    for k in range(6-i,7):\n",
    "        print(\"*\",end=\" \")\n",
    "    print()\n",
    "\n",
    "print(\"=\"*20)\n",
    "\n",
    "#打印空心三角形\n",
    "for i in range(6):\n",
    "    #打印前面空格\n",
    "    for j in range(6-i):\n",
    "        print(end=\" \")\n",
    "    for k in range(6-i,7):\n",
    "        if k == 6-i or k == 6 or i == 5:\n",
    "            print(\"*\",end=\" \")\n",
    "        else:\n",
    "            print(\" \",end=\" \")\n",
    "    print()"
   ]
  },
  {
   "cell_type": "code",
   "execution_count": 4,
   "metadata": {},
   "outputs": [
    {
     "name": "stdout",
     "output_type": "stream",
     "text": [
      "      * \n",
      "     * * \n",
      "    *   * \n",
      "   * * * * \n",
      "  *       * \n",
      " *         * \n"
     ]
    }
   ],
   "source": [
    "#打印字母A\n",
    "for i in range(6):\n",
    "    #打印前面空格\n",
    "    for j in range(6-i):\n",
    "        print(end=\" \")\n",
    "    for k in range(6-i,7):\n",
    "        if k == 6-i or k == 6 or i == 3:\n",
    "            print(\"*\",end=\" \")\n",
    "        else:\n",
    "            print(\" \",end=\" \")\n",
    "    print()"
   ]
  },
  {
   "cell_type": "code",
   "execution_count": 5,
   "metadata": {},
   "outputs": [
    {
     "name": "stdout",
     "output_type": "stream",
     "text": [
      "      * \n",
      "     * * \n",
      "    * * * \n",
      "   * * * * \n",
      "  * * * * * \n",
      " * * * * * * \n",
      "  * * * * * \n",
      "   * * * * \n",
      "    * * * \n",
      "     * * \n",
      "      * \n"
     ]
    }
   ],
   "source": [
    "#打印菱形\n",
    "for i in range(6):\n",
    "    for j in range(6-i):\n",
    "        print(end=\" \")\n",
    "    for k in range(i+1):\n",
    "        print(\"*\",end=\" \")\n",
    "    print()\n",
    "for i in range(5):\n",
    "    for j in range(i+2):\n",
    "        print(end=\" \")\n",
    "    for k in range(5-i):\n",
    "        print(\"*\",end=\" \")\n",
    "    print()"
   ]
  },
  {
   "cell_type": "code",
   "execution_count": null,
   "metadata": {},
   "outputs": [],
   "source": [
    ""
   ]
  },
  {
   "cell_type": "code",
   "execution_count": 1,
   "metadata": {},
   "outputs": [
    {
     "name": "stdout",
     "output_type": "stream",
     "text": [
      "请输入实心三角形，空心三角形，实心矩形，空心矩形(输入-1结束):0\n",
      "输入正确的形状\n",
      "请输入实心三角形，空心三角形，实心矩形，空心矩形(输入-1结束):\n",
      "输入正确的形状\n",
      "请输入实心三角形，空心三角形，实心矩形，空心矩形(输入-1结束):-1\n"
     ]
    }
   ],
   "source": [
    "while True:\n",
    "    #实心矩行\n",
    "    def s_jx(length,wigth):\n",
    "        for i in range(wigth):\n",
    "            #控制列\n",
    "            for j in range(length):\n",
    "                print(\"*\",end=\" \")    \n",
    "            print()\n",
    "\n",
    "    #空心矩行\n",
    "    def k_jx(length,wigth):\n",
    "        for i in range(wigth):\n",
    "            for j in range(length):\n",
    "                if 0 < i < wigth - 1 and 0 < j < length - 1:\n",
    "                    print(\" \",end=\" \")\n",
    "                else:\n",
    "                    print(\"*\",end=\" \")\n",
    "            print()\n",
    "\n",
    "    #实心三角形\n",
    "    def s_sjx(length):\n",
    "        for i in range(length):\n",
    "                #打印前面空格\n",
    "            for j in range(length-i):\n",
    "                print(end=\" \")\n",
    "            for k in range(length-i,length+1):\n",
    "                print(\"*\",end=\" \")\n",
    "            print()\n",
    "\n",
    "\n",
    "\n",
    "    #打印空心三角形\n",
    "    def k_sjx(length):\n",
    "        for i in range(length):\n",
    "            #打印前面空格\n",
    "            for j in range(length-i):\n",
    "                print(end=\" \")\n",
    "            for k in range(length-i,length+1):\n",
    "                if k == length-i or k == length or i == length-1:\n",
    "                    print(\"*\",end=\" \")\n",
    "                else:\n",
    "                    print(\" \",end=\" \")\n",
    "            print()\n",
    "\n",
    "    shape = input(\"请输入实心三角形，空心三角形，实心矩形，空心矩形(输入-1结束):\")\n",
    "    if shape == \"-1\":\n",
    "        break\n",
    "\n",
    "    elif shape == \"实心三角形\":\n",
    "        length = int(input(\"请输入长:\"))\n",
    "        s_sjx(length)\n",
    "\n",
    "    elif shape == \"空心三角形\":\n",
    "        length = int(input(\"请输入长:\"))\n",
    "        k_sjx(length)\n",
    "\n",
    "    elif shape == \"实心矩形\":\n",
    "        length = int(input(\"请输入长:\"))\n",
    "        wigth = int(input(\"请输入宽:\"))\n",
    "        s_jx(length,wigth)\n",
    "\n",
    "    elif shape == \"空心矩形\":\n",
    "        length = int(input(\"请输入长:\"))\n",
    "        wigth = int(input(\"请输入宽:\"))\n",
    "        k_jx(length,wigth)\n",
    "\n",
    "    else:\n",
    "        print(\"输入正确的形状\")"
   ]
  },
  {
   "cell_type": "code",
   "execution_count": null,
   "metadata": {},
   "outputs": [],
   "source": [
    ""
   ]
  },
  {
   "cell_type": "code",
   "execution_count": null,
   "metadata": {},
   "outputs": [],
   "source": [
    ""
   ]
  },
  {
   "cell_type": "code",
   "execution_count": null,
   "metadata": {},
   "outputs": [],
   "source": [
    ""
   ]
  },
  {
   "cell_type": "code",
   "execution_count": null,
   "metadata": {},
   "outputs": [],
   "source": [
    ""
   ]
  }
 ],
 "metadata": {
  "kernelspec": {
   "display_name": "Python 3",
   "language": "python",
   "name": "python3"
  },
  "language_info": {
   "codemirror_mode": {
    "name": "ipython",
    "version": 3.0
   },
   "file_extension": ".py",
   "mimetype": "text/x-python",
   "name": "python",
   "nbconvert_exporter": "python",
   "pygments_lexer": "ipython3",
   "version": "3.6.5"
  }
 },
 "nbformat": 4,
 "nbformat_minor": 0
}