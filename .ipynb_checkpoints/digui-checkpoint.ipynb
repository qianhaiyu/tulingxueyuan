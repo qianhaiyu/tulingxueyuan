{
 "cells": [
  {
   "cell_type": "code",
   "execution_count": 2,
   "metadata": {},
   "outputs": [
    {
     "name": "stdout",
     "output_type": "stream",
     "text": [
      "$3\n",
      "$2\n",
      "$1\n",
      "$0\n",
      "====================\n",
      "0\n",
      "1\n",
      "2\n",
      "3\n"
     ]
    }
   ],
   "source": [
    "#类似于栈的先进后出模式\n",
    "#要有递推关系\n",
    "#要有临界\n",
    "def digui(num):\n",
    "    print(\"$\" + str(num))\n",
    "    #临界值\n",
    "    if num > 0:\n",
    "        #调用函数本身\n",
    "        digui(num-1)\n",
    "    else:\n",
    "        print(\"=\"*20)\n",
    "    print(num)\n",
    "digui(3)"
   ]
  },
  {
   "cell_type": "code",
   "execution_count": 23,
   "metadata": {},
   "outputs": [
    {
     "name": "stdout",
     "output_type": "stream",
     "text": [
      "A => C\n",
      "A => B\n",
      "C => B\n",
      "A => C\n",
      "B => A\n",
      "B => C\n",
      "A => C\n"
     ]
    }
   ],
   "source": [
    "#汉诺塔\n",
    "def hannuota(n,a,b,c):\n",
    "    if n == 1:\n",
    "        print(a,\"=>\",c)\n",
    "    else:\n",
    "        #把A柱上的n-1个圆盘移到B柱\n",
    "        hannuota(n-1,a,c,b)\n",
    "        #把A柱上的最大的圆盘移到C柱\n",
    "        hannuota(1,a,b,c)\n",
    "        #把B柱上的n-1个圆盘移到C柱\n",
    "        hannuota(n-1,b,a,c)\n",
    "hannuota(3,\"A\",\"B\",\"C\")"
   ]
  },
  {
   "cell_type": "code",
   "execution_count": null,
   "metadata": {},
   "outputs": [],
   "source": []
  },
  {
   "cell_type": "code",
   "execution_count": null,
   "metadata": {},
   "outputs": [],
   "source": []
  }
 ],
 "metadata": {
  "kernelspec": {
   "display_name": "Python 3",
   "language": "python",
   "name": "python3"
  },
  "language_info": {
   "codemirror_mode": {
    "name": "ipython",
    "version": 3
   },
   "file_extension": ".py",
   "mimetype": "text/x-python",
   "name": "python",
   "nbconvert_exporter": "python",
   "pygments_lexer": "ipython3",
   "version": "3.6.5"
  }
 },
 "nbformat": 4,
 "nbformat_minor": 1
}
